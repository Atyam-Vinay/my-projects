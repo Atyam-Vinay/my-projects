{
  "cells": [
    {
      "cell_type": "code",
      "execution_count": null,
      "metadata": {
        "id": "3KEfsX1xWZuY"
      },
      "outputs": [],
      "source": [
        "import pandas as pd\n",
        "import numpy as np\n",
        "from sklearn.preprocessing import MinMaxScaler\n",
        "from keras.models import Sequential\n",
        "from keras.layers import *\n",
        "from sklearn.feature_selection import SelectKBest, chi2\n",
        "IT_data1=pd.read_csv(\"Income_tax_database.csv\")\n",
        "scaler=MinMaxScaler(feature_range=(0,1))\n",
        "model=Sequential()\n",
        "model.add(Dense(50,input_dim=200,activation=\"relu\"))\n",
        "model.add(Dense(100,activation=\"relu\"))\n",
        "model.add(Dense(100,activation=\"relu\"))\n",
        "model.add(Dense(1,activation=\"linear\"))\n",
        "model.compile(loss='mean_squared_error',optimizer='adam')\n",
        "IT_data1.loc[201:220,:]\n"
      ]
    },
    {
      "cell_type": "code",
      "execution_count": null,
      "metadata": {
        "id": "urxp3ml7Wa0o"
      },
      "outputs": [],
      "source": [
        "IT_data1['Income Class']=IT_data1['Income Class'].str.replace(',','')\n",
        "IT_data1['Income Class']=IT_data1['Income Class'].str.replace('[A-Z]+','')\n",
        "IT_data1[['min','max']]=IT_data1['Income Class'].str.split('-',expand=True)\n",
        "IT_data1['min']=pd.to_numeric(IT_data1['min'],errors='coerce')\n",
        "IT_data1['max']=pd.to_numeric(IT_data1['max'],errors='coerce')\n",
        "IT_data1[['min','max']]=IT_data1[['min','max']].fillna(0)\n"
      ]
    },
    {
      "cell_type": "code",
      "execution_count": null,
      "metadata": {
        "id": "OTNhR8h7Y-18"
      },
      "outputs": [],
      "source": [
        "IT_data1['min']=IT_data1['min'].astype(float)\n",
        "IT_data1['max']=IT_data1['max'].astype(float)\n",
        "p=IT_data1['Income Class']=(IT_data1['min']+IT_data1['max'])/2"
      ]
    },
    {
      "cell_type": "code",
      "execution_count": null,
      "metadata": {
        "id": "jUd_P5BmxBRd"
      },
      "outputs": [],
      "source": [
        "IT_data1['Income Class']"
      ]
    },
    {
      "cell_type": "code",
      "execution_count": null,
      "metadata": {
        "id": "lOVQHBF7xW1o"
      },
      "outputs": [],
      "source": [
        "#IT_data1['Tax Year']=pd.to_numeric(IT_data1['Tax Year'],errors='coerce')\n",
        "#IT_data1['Tax Year'].dropna()\n",
        "#IT_data1['Tax Year']=IT_data1['Tax Year'].astype(float)\n",
        "IT_data1 = IT_data1.apply(pd.to_numeric, errors='coerce')\n",
        "Feature_names=['Tax Year','Income Class','Number of All Returns','NY AGI of All Returns (in thousands) *\t','Deductions of All Returns (in thousands)','Dependent Exemptions of All Returns (in thousands)','Taxable Income of All Returns (in thousands)','Tax Before Credits of All Returns (in thousands)\t','Tax Liability of All Returns (in thousands) **','Place of Residence Sort Order']\n",
        "Feature_matrix=pd.DataFrame(IT_data1,columns=Feature_names)\n",
        "Target_vector=IT_data1['Place of Residence Sort Order']\n",
        "Feature_matrix=Feature_matrix.dropna(thresh=4)\n",
        "Feature_matrix=Feature_matrix.dropna(axis=1,thresh=2000)\n",
        "Full_Feature_matrix=Feature_matrix\n",
        "Target_vector=Target_vector.head(n=1000)\n",
        "Feature_matrix=Feature_matrix.head(n=1000)\n",
        "Feature_matrix = Feature_matrix.reset_index(drop=True)\n",
        "\n",
        "Feature_matrix\n",
        "\n"
      ]
    },
    {
      "cell_type": "code",
      "execution_count": null,
      "metadata": {
        "id": "unOUnWDixo3e"
      },
      "outputs": [],
      "source": [
        "scaler1=MinMaxScaler(feature_range=(0,1))\n",
        "scaler2=MinMaxScaler(feature_range=(0,1))\n",
        "test_scaler_x=MinMaxScaler(feature_range=(0,1))\n",
        "test_scaler_y=MinMaxScaler(feature_range=(0,1))\n",
        "x=scaler1.fit_transform(Feature_matrix)\n",
        "test_scaler_x.fit_transform(Feature_matrix)\n",
        "y=scaler2.fit_transform(np.asarray(Target_vector).reshape(-1,1))\n",
        "test_scaler_y.fit_transform(np.asarray(Target_vector).reshape(-1,1))\n",
        "#y=np.asarray(Target_vector).reshape(-1,1)"
      ]
    },
    {
      "cell_type": "code",
      "execution_count": null,
      "metadata": {
        "id": "Rfgn_sHByFDw"
      },
      "outputs": [],
      "source": [
        "\n",
        "from tensorflow.keras.regularizers import l2\n",
        "model1=Sequential()\n",
        "model1.add(Dense(50,input_dim=8,activation=\"relu\"))\n",
        "model1.add(Dense(250,activation=\"relu\"))\n",
        "model1.add(Dense(250,activation=\"relu\"))\n",
        "model1.add(Dense(1,activation=\"linear\"))\n",
        "model1.compile(loss='mean_squared_error',optimizer='adam',metrics=['accuracy'])\n",
        "\n"
      ]
    },
    {
      "cell_type": "code",
      "execution_count": null,
      "metadata": {
        "id": "dtEZ_OwpyIdM"
      },
      "outputs": [],
      "source": [
        "model1.fit(x,y,epochs=100,shuffle=3)"
      ]
    },
    {
      "cell_type": "markdown",
      "metadata": {
        "id": "pX54C3S9idNY"
      },
      "source": []
    },
    {
      "cell_type": "code",
      "execution_count": null,
      "metadata": {
        "id": "ZzOhzJPDyu62"
      },
      "outputs": [],
      "source": [
        "\n",
        "model1.evaluate(x,y)\n",
        "model1.predict(x)\n"
      ]
    },
    {
      "cell_type": "code",
      "execution_count": null,
      "metadata": {
        "id": "sngjDeUszUNl"
      },
      "outputs": [],
      "source": [
        "def predict_values(input):\n",
        "  x=test_scaler_x.transform(input)\n",
        "  y_predicted = model1.predict(x)\n",
        "  y_pred = test_scaler_y.inverse_transform(y_predicted)\n",
        "  print(y_pred[0])\n",
        "\n"
      ]
    },
    {
      "cell_type": "code",
      "execution_count": null,
      "metadata": {
        "id": "JdffXsrOxmPy"
      },
      "outputs": [],
      "source": []
    },
    {
      "cell_type": "code",
      "execution_count": null,
      "metadata": {
        "id": "8D-v6VSXzWf6"
      },
      "outputs": [],
      "source": [
        "predict_values(np.array(Full_Feature_matrix.iloc[201,:]).reshape(1,8))\n"
      ]
    },
    {
      "cell_type": "code",
      "execution_count": null,
      "metadata": {
        "id": "GvYtAqR-NDJ6"
      },
      "outputs": [],
      "source": [
        "Feature_matrix.columns"
      ]
    },
    {
      "cell_type": "code",
      "execution_count": null,
      "metadata": {
        "id": "9kuuMfm5ihNf"
      },
      "outputs": [],
      "source": []
    }
  ],
  "metadata": {
    "colab": {
      "provenance": []
    },
    "kernelspec": {
      "display_name": "Python 3",
      "name": "python3"
    },
    "language_info": {
      "name": "python"
    }
  },
  "nbformat": 4,
  "nbformat_minor": 0
}